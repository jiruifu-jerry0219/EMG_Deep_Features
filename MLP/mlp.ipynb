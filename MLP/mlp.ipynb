{
 "cells": [
  {
   "cell_type": "code",
   "execution_count": 10,
   "id": "abc9158d",
   "metadata": {},
   "outputs": [],
   "source": [
    "import numpy as np\n",
    "import pandas as pd\n",
    "import seaborn as sns\n",
    "import matplotlib.pyplot as plt\n",
    "import itertools\n",
    "import imutils\n",
    "import ipywidgets\n",
    "\n",
    "from tqdm.notebook import tqdm\n",
    "import torch\n",
    "import torch.nn as nn\n",
    "import torch.optim as optim\n",
    "from torch.utils.data import Dataset, DataLoader, WeightedRandomSampler\n",
    "\n",
    "from sklearn.preprocessing import MinMaxScaler    \n",
    "from sklearn.model_selection import train_test_split\n",
    "from sklearn.metrics import confusion_matrix, classification_report\n",
    "\n",
    "import matplotlib.pyplot as plt\n",
    "import chart_studio.plotly  as py\n",
    "from chart_studio.plotly import iplot\n",
    "import plotly.graph_objs as go\n",
    "from plotly.offline import init_notebook_mode, iplot\n",
    "from plotly import tools\n",
    "from PIL import Image\n",
    "from sklearn.preprocessing import OneHotEncoder\n",
    "from sklearn.metrics import classification_report, confusion_matrix\n",
    "import random\n"
   ]
  },
  {
   "cell_type": "code",
   "execution_count": 11,
   "id": "cb2a2606",
   "metadata": {},
   "outputs": [],
   "source": [
    "def plot_confusion_matrix(cm, classes,\n",
    "                          normalize=False,\n",
    "                          title='Confusion matrix',\n",
    "                          cmap=plt.cm.Blues):\n",
    "\n",
    "    plt.figure(figsize = (6,6))\n",
    "    plt.imshow(cm, interpolation='nearest', cmap=cmap)\n",
    "    plt.title(title)\n",
    "    plt.colorbar()\n",
    "    tick_marks = np.arange(len(classes))\n",
    "    plt.xticks(tick_marks, classes, rotation=90)\n",
    "    plt.yticks(tick_marks, classes)\n",
    "    if normalize:\n",
    "        cm = cm.astype('float') / cm.sum(axis=1)[:, np.newaxis]\n",
    "\n",
    "    thresh = cm.max() / 2.\n",
    "    cm = np.round(cm,2)\n",
    "    for i, j in itertools.product(range(cm.shape[0]), range(cm.shape[1])):\n",
    "        plt.text(j, i, cm[i, j],\n",
    "                 horizontalalignment=\"center\",\n",
    "                 color=\"white\" if cm[i, j] > thresh else \"black\")\n",
    "    plt.tight_layout()\n",
    "    plt.ylabel('True label')\n",
    "    plt.xlabel('Predicted label')\n",
    "    plt.show()\n",
    "    "
   ]
  },
  {
   "cell_type": "code",
   "execution_count": 304,
   "id": "a8ff6a8d",
   "metadata": {},
   "outputs": [
    {
     "data": {
      "text/html": [
       "<div>\n",
       "<style scoped>\n",
       "    .dataframe tbody tr th:only-of-type {\n",
       "        vertical-align: middle;\n",
       "    }\n",
       "\n",
       "    .dataframe tbody tr th {\n",
       "        vertical-align: top;\n",
       "    }\n",
       "\n",
       "    .dataframe thead th {\n",
       "        text-align: right;\n",
       "    }\n",
       "</style>\n",
       "<table border=\"1\" class=\"dataframe\">\n",
       "  <thead>\n",
       "    <tr style=\"text-align: right;\">\n",
       "      <th></th>\n",
       "      <th>ch1</th>\n",
       "      <th>ch2</th>\n",
       "      <th>ch3</th>\n",
       "      <th>ch4</th>\n",
       "      <th>ch5</th>\n",
       "      <th>ch6</th>\n",
       "      <th>ch7</th>\n",
       "      <th>ch8</th>\n",
       "      <th>ch9</th>\n",
       "      <th>ch10</th>\n",
       "      <th>ch11</th>\n",
       "      <th>ch12</th>\n",
       "      <th>ch13</th>\n",
       "      <th>ch14</th>\n",
       "      <th>ch15</th>\n",
       "      <th>ch16</th>\n",
       "      <th>label</th>\n",
       "    </tr>\n",
       "  </thead>\n",
       "  <tbody>\n",
       "    <tr>\n",
       "      <th>0</th>\n",
       "      <td>44.978477</td>\n",
       "      <td>75.852686</td>\n",
       "      <td>132.350340</td>\n",
       "      <td>62.154133</td>\n",
       "      <td>136.783299</td>\n",
       "      <td>93.199745</td>\n",
       "      <td>136.744829</td>\n",
       "      <td>128.839692</td>\n",
       "      <td>74.476383</td>\n",
       "      <td>68.993442</td>\n",
       "      <td>212.961369</td>\n",
       "      <td>131.221027</td>\n",
       "      <td>114.589482</td>\n",
       "      <td>121.633482</td>\n",
       "      <td>118.722414</td>\n",
       "      <td>347.032875</td>\n",
       "      <td>1</td>\n",
       "    </tr>\n",
       "    <tr>\n",
       "      <th>1</th>\n",
       "      <td>38.614753</td>\n",
       "      <td>70.083405</td>\n",
       "      <td>123.739978</td>\n",
       "      <td>65.604436</td>\n",
       "      <td>117.650005</td>\n",
       "      <td>86.562605</td>\n",
       "      <td>133.492521</td>\n",
       "      <td>124.809185</td>\n",
       "      <td>65.319728</td>\n",
       "      <td>67.116653</td>\n",
       "      <td>185.570837</td>\n",
       "      <td>117.490406</td>\n",
       "      <td>106.070006</td>\n",
       "      <td>108.361610</td>\n",
       "      <td>104.736460</td>\n",
       "      <td>319.078518</td>\n",
       "      <td>1</td>\n",
       "    </tr>\n",
       "    <tr>\n",
       "      <th>2</th>\n",
       "      <td>40.042154</td>\n",
       "      <td>75.673455</td>\n",
       "      <td>136.006875</td>\n",
       "      <td>73.503978</td>\n",
       "      <td>128.730776</td>\n",
       "      <td>98.294122</td>\n",
       "      <td>140.723070</td>\n",
       "      <td>122.588191</td>\n",
       "      <td>65.584950</td>\n",
       "      <td>67.862937</td>\n",
       "      <td>201.547890</td>\n",
       "      <td>141.200780</td>\n",
       "      <td>111.286147</td>\n",
       "      <td>116.789397</td>\n",
       "      <td>109.464121</td>\n",
       "      <td>304.816867</td>\n",
       "      <td>1</td>\n",
       "    </tr>\n",
       "    <tr>\n",
       "      <th>3</th>\n",
       "      <td>38.201302</td>\n",
       "      <td>72.840167</td>\n",
       "      <td>127.817385</td>\n",
       "      <td>70.632892</td>\n",
       "      <td>130.986294</td>\n",
       "      <td>96.990399</td>\n",
       "      <td>138.702526</td>\n",
       "      <td>132.808696</td>\n",
       "      <td>69.325928</td>\n",
       "      <td>72.291155</td>\n",
       "      <td>201.221432</td>\n",
       "      <td>124.797540</td>\n",
       "      <td>119.326688</td>\n",
       "      <td>109.248558</td>\n",
       "      <td>107.678863</td>\n",
       "      <td>305.427366</td>\n",
       "      <td>1</td>\n",
       "    </tr>\n",
       "    <tr>\n",
       "      <th>4</th>\n",
       "      <td>41.630983</td>\n",
       "      <td>73.254382</td>\n",
       "      <td>116.647396</td>\n",
       "      <td>69.444260</td>\n",
       "      <td>148.301405</td>\n",
       "      <td>90.177650</td>\n",
       "      <td>128.405327</td>\n",
       "      <td>125.598226</td>\n",
       "      <td>80.131324</td>\n",
       "      <td>71.594530</td>\n",
       "      <td>189.687243</td>\n",
       "      <td>124.401924</td>\n",
       "      <td>119.802461</td>\n",
       "      <td>108.970851</td>\n",
       "      <td>113.308881</td>\n",
       "      <td>291.371188</td>\n",
       "      <td>1</td>\n",
       "    </tr>\n",
       "  </tbody>\n",
       "</table>\n",
       "</div>"
      ],
      "text/plain": [
       "         ch1        ch2         ch3        ch4         ch5        ch6  \\\n",
       "0  44.978477  75.852686  132.350340  62.154133  136.783299  93.199745   \n",
       "1  38.614753  70.083405  123.739978  65.604436  117.650005  86.562605   \n",
       "2  40.042154  75.673455  136.006875  73.503978  128.730776  98.294122   \n",
       "3  38.201302  72.840167  127.817385  70.632892  130.986294  96.990399   \n",
       "4  41.630983  73.254382  116.647396  69.444260  148.301405  90.177650   \n",
       "\n",
       "          ch7         ch8        ch9       ch10        ch11        ch12  \\\n",
       "0  136.744829  128.839692  74.476383  68.993442  212.961369  131.221027   \n",
       "1  133.492521  124.809185  65.319728  67.116653  185.570837  117.490406   \n",
       "2  140.723070  122.588191  65.584950  67.862937  201.547890  141.200780   \n",
       "3  138.702526  132.808696  69.325928  72.291155  201.221432  124.797540   \n",
       "4  128.405327  125.598226  80.131324  71.594530  189.687243  124.401924   \n",
       "\n",
       "         ch13        ch14        ch15        ch16  label  \n",
       "0  114.589482  121.633482  118.722414  347.032875      1  \n",
       "1  106.070006  108.361610  104.736460  319.078518      1  \n",
       "2  111.286147  116.789397  109.464121  304.816867      1  \n",
       "3  119.326688  109.248558  107.678863  305.427366      1  \n",
       "4  119.802461  108.970851  113.308881  291.371188      1  "
      ]
     },
     "execution_count": 304,
     "metadata": {},
     "output_type": "execute_result"
    }
   ],
   "source": [
    "df = pd.read_csv(\"emg_mav.csv\")\n",
    "df.head()"
   ]
  },
  {
   "cell_type": "code",
   "execution_count": 305,
   "id": "28469ce1",
   "metadata": {},
   "outputs": [
    {
     "data": {
      "text/plain": [
       "<AxesSubplot:xlabel='label', ylabel='count'>"
      ]
     },
     "execution_count": 305,
     "metadata": {},
     "output_type": "execute_result"
    },
    {
     "data": {
      "image/png": "[encoded data removed]",
      "text/plain": [
       "<Figure size 432x288 with 1 Axes>"
      ]
     },
     "metadata": {
      "needs_background": "light"
     },
     "output_type": "display_data"
    }
   ],
   "source": [
    "# Visualize the imblance in the dataset\n",
    "sns.countplot(x = 'label', data=df)"
   ]
  },
  {
   "cell_type": "code",
   "execution_count": 306,
   "id": "ab204652",
   "metadata": {},
   "outputs": [],
   "source": [
    "#decode the label to numerical value\n",
    "df['label'] = df['label'].astype('category')\n",
    "class2idx = {\n",
    "    1: 0,\n",
    "    2: 1,\n",
    "    3: 2,\n",
    "    4: 3,\n",
    "    5: 4\n",
    "}\n",
    "\n",
    "\n",
    "idx2class = {v: k for k, v in class2idx.items()}\n",
    "\n",
    "\n",
    "df['label'].replace(class2idx, inplace=True)"
   ]
  },
  {
   "cell_type": "code",
   "execution_count": 307,
   "id": "89d83bc6",
   "metadata": {},
   "outputs": [],
   "source": [
    "X = df.iloc[:, 0:-1]\n",
    "y = df.iloc[:, -1]"
   ]
  },
  {
   "cell_type": "code",
   "execution_count": 308,
   "id": "b981cf9f",
   "metadata": {},
   "outputs": [],
   "source": [
    "X_trainval, X_test, y_trainval, y_test = train_test_split(X, y, test_size=0.2, random_state=42)\n",
    "\n",
    "X_train, X_val, y_train, y_val = train_test_split(X_trainval, y_trainval, test_size=0.1,  random_state=21)"
   ]
  },
  {
   "cell_type": "code",
   "execution_count": 309,
   "id": "991bca98",
   "metadata": {},
   "outputs": [],
   "source": [
    "scaler = MinMaxScaler()\n",
    "X_train = scaler.fit_transform(X_train)\n",
    "X_val = scaler.transform(X_val)\n",
    "X_test = scaler.transform(X_test)\n",
    "X_train, y_train = np.array(X_train), np.array(y_train)\n",
    "X_val, y_val = np.array(X_val), np.array(y_val)\n",
    "X_test, y_test = np.array(X_test), np.array(y_test)"
   ]
  },
  {
   "cell_type": "code",
   "execution_count": 310,
   "id": "2d40737b",
   "metadata": {},
   "outputs": [],
   "source": [
    "def get_class_distribution(obj):\n",
    "    count_dict = {\n",
    "        \"1\": 0,\n",
    "        \"2\": 0,\n",
    "        \"3\": 0,\n",
    "        \"4\": 0,\n",
    "        \"5\": 0,\n",
    "    }\n",
    "    \n",
    "    for i in obj:\n",
    "        if i == 0: \n",
    "            count_dict['1'] += 1\n",
    "        elif i == 1: \n",
    "            count_dict['2'] += 1\n",
    "        elif i == 2: \n",
    "            count_dict['3'] += 1\n",
    "        elif i == 3: \n",
    "            count_dict['4'] += 1\n",
    "        elif i == 4: \n",
    "            count_dict['5'] += 1             \n",
    "        else:\n",
    "            print(\"Check classes.\")\n",
    "            \n",
    "    return count_dict"
   ]
  },
  {
   "cell_type": "code",
   "execution_count": 311,
   "id": "7e16f11e",
   "metadata": {},
   "outputs": [
    {
     "data": {
      "text/plain": [
       "Text(0.5, 1.0, 'Class Distribution in Test Set')"
      ]
     },
     "execution_count": 311,
     "metadata": {},
     "output_type": "execute_result"
    },
    {
     "data": {
      "image/png": "[encoded data removed]",
      "text/plain": [
       "<Figure size 1800x504 with 3 Axes>"
      ]
     },
     "metadata": {
      "needs_background": "light"
     },
     "output_type": "display_data"
    }
   ],
   "source": [
    "fig, axes = plt.subplots(nrows=1, ncols=3, figsize=(25,7))\n",
    "# Train\n",
    "sns.barplot(data = pd.DataFrame.from_dict([get_class_distribution(y_train)]).melt(), x = \"variable\", y=\"value\", hue=\"variable\",  ax=axes[0]).set_title('Class Distribution in Train Set')\n",
    "# Validation\n",
    "sns.barplot(data = pd.DataFrame.from_dict([get_class_distribution(y_val)]).melt(), x = \"variable\", y=\"value\", hue=\"variable\",  ax=axes[1]).set_title('Class Distribution in Val Set')\n",
    "# Test\n",
    "sns.barplot(data = pd.DataFrame.from_dict([get_class_distribution(y_test)]).melt(), x = \"variable\", y=\"value\", hue=\"variable\",  ax=axes[2]).set_title('Class Distribution in Test Set')"
   ]
  },
  {
   "cell_type": "code",
   "execution_count": 312,
   "id": "acbb6a6f",
   "metadata": {},
   "outputs": [],
   "source": [
    "EPOCHS = 100\n",
    "BATCH_SIZE = 64\n",
    "LEARNING_RATE = 0.001"
   ]
  },
  {
   "cell_type": "code",
   "execution_count": 313,
   "id": "a4ba9c57",
   "metadata": {},
   "outputs": [],
   "source": [
    "class ClassifierDataset(Dataset):\n",
    "    \n",
    "    def __init__(self, X_data, y_data):\n",
    "        self.X_data = X_data\n",
    "        self.y_data = y_data\n",
    "        \n",
    "    def __getitem__(self, index):\n",
    "        return self.X_data[index], self.y_data[index]\n",
    "        \n",
    "    def __len__ (self):\n",
    "        return len(self.X_data)\n",
    "\n",
    "\n",
    "\n"
   ]
  },
  {
   "cell_type": "code",
   "execution_count": 314,
   "id": "40ff8157",
   "metadata": {},
   "outputs": [],
   "source": [
    "train_dataset = ClassifierDataset(torch.from_numpy(X_train).float(), torch.from_numpy(y_train).long())\n",
    "val_dataset = ClassifierDataset(torch.from_numpy(X_val).float(), torch.from_numpy(y_val).long())\n",
    "test_dataset = ClassifierDataset(torch.from_numpy(X_test).float(), torch.from_numpy(y_test).long())"
   ]
  },
  {
   "cell_type": "code",
   "execution_count": 315,
   "id": "d41b648a",
   "metadata": {},
   "outputs": [],
   "source": [
    "target_list = []\n",
    "for _, t in train_dataset:\n",
    "    target_list.append(t)\n",
    "    \n",
    "target_list = torch.tensor(target_list)\n",
    "target_list = target_list[torch.randperm(len(target_list))]"
   ]
  },
  {
   "cell_type": "code",
   "execution_count": 316,
   "id": "d4647486",
   "metadata": {},
   "outputs": [
    {
     "name": "stdout",
     "output_type": "stream",
     "text": [
      "tensor([0.0024, 0.0024, 0.0023, 0.0024, 0.0024])\n"
     ]
    }
   ],
   "source": [
    "class_count = [i for i in get_class_distribution(y_train).values()]\n",
    "class_weights = 1./torch.tensor(class_count, dtype=torch.float) \n",
    "print(class_weights)"
   ]
  },
  {
   "cell_type": "code",
   "execution_count": 317,
   "id": "a275fa44",
   "metadata": {},
   "outputs": [],
   "source": [
    "class_weights_all = class_weights[target_list]"
   ]
  },
  {
   "cell_type": "code",
   "execution_count": 318,
   "id": "acbec327",
   "metadata": {},
   "outputs": [],
   "source": [
    "weighted_sampler = WeightedRandomSampler(\n",
    "    weights=class_weights_all,\n",
    "    num_samples=len(class_weights_all),\n",
    "    replacement=True\n",
    ")"
   ]
  },
  {
   "cell_type": "code",
   "execution_count": 319,
   "id": "e1124ff5",
   "metadata": {},
   "outputs": [],
   "source": [
    "EPOCHS = 300\n",
    "BATCH_SIZE = 16\n",
    "LEARNING_RATE = 0.0007\n",
    "NUM_FEATURES = len(X.columns)\n",
    "NUM_CLASSES = 5"
   ]
  },
  {
   "cell_type": "code",
   "execution_count": 320,
   "id": "bf54c0e8",
   "metadata": {},
   "outputs": [
    {
     "name": "stdout",
     "output_type": "stream",
     "text": [
      "16\n"
     ]
    }
   ],
   "source": [
    "print(NUM_FEATURES)"
   ]
  },
  {
   "cell_type": "code",
   "execution_count": 321,
   "id": "7f8bb6ff",
   "metadata": {},
   "outputs": [],
   "source": [
    "train_loader = DataLoader(dataset=train_dataset,\n",
    "                          batch_size=BATCH_SIZE,\n",
    "                          sampler=weighted_sampler\n",
    ")\n",
    "val_loader = DataLoader(dataset=val_dataset, batch_size=1)\n",
    "test_loader = DataLoader(dataset=test_dataset, batch_size=1)"
   ]
  },
  {
   "cell_type": "code",
   "execution_count": 322,
   "id": "83866697",
   "metadata": {},
   "outputs": [],
   "source": [
    "class MulticlassClassification(nn.Module):\n",
    "    def __init__(self, num_feature, num_class):\n",
    "        super(MulticlassClassification, self).__init__()\n",
    "        \n",
    "        self.layer_1 = nn.Linear(num_feature, 512)\n",
    "        self.layer_2 = nn.Linear(512, 128)\n",
    "        self.layer_3 = nn.Linear(128, 64)\n",
    "        self.layer_out = nn.Linear(64, num_class) \n",
    "        \n",
    "        self.relu = nn.ReLU()\n",
    "        self.dropout = nn.Dropout(p=0.2)\n",
    "        self.batchnorm1 = nn.BatchNorm1d(512)\n",
    "        self.batchnorm2 = nn.BatchNorm1d(128)\n",
    "        self.batchnorm3 = nn.BatchNorm1d(64)\n",
    "        \n",
    "    def forward(self, x):\n",
    "        x = self.layer_1(x)\n",
    "        x = self.batchnorm1(x)\n",
    "        x = self.relu(x)\n",
    "        \n",
    "        x = self.layer_2(x)\n",
    "        x = self.batchnorm2(x)\n",
    "        x = self.relu(x)\n",
    "        x = self.dropout(x)\n",
    "        \n",
    "        x = self.layer_3(x)\n",
    "        x = self.batchnorm3(x)\n",
    "        x = self.relu(x)\n",
    "        x = self.dropout(x)\n",
    "        \n",
    "        x = self.layer_out(x)\n",
    "        \n",
    "        return x"
   ]
  },
  {
   "cell_type": "code",
   "execution_count": 323,
   "id": "3adb80f5",
   "metadata": {},
   "outputs": [],
   "source": [
    "# class MulticlassClassification(nn.Module):\n",
    "#     def __init__(self, num_feature, num_class):\n",
    "#         super(MulticlassClassification, self).__init__()\n",
    "        \n",
    "#         self.layer_1 = nn.Linear(num_feature, 512)\n",
    "#         self.layer_2 = nn.Linear(512, 64)\n",
    "#         self.layer_out = nn.Linear(64, num_class) \n",
    "        \n",
    "#         self.relu = nn.ReLU()\n",
    "#         self.dropout = nn.Dropout(p=0.2)\n",
    "#         self.batchnorm1 = nn.BatchNorm1d(512)\n",
    "#         self.batchnorm2 = nn.BatchNorm1d(64)\n",
    "        \n",
    "#     def forward(self, x):\n",
    "#         x = self.layer_1(x)\n",
    "#         x = self.batchnorm1(x)\n",
    "#         x = self.relu(x)\n",
    "        \n",
    "#         x = self.layer_2(x)\n",
    "#         x = self.batchnorm2(x)\n",
    "#         x = self.relu(x)\n",
    "#         x = self.dropout(x)\n",
    "        \n",
    "        \n",
    "#         x = self.layer_out(x)\n",
    "        \n",
    "#         return x"
   ]
  },
  {
   "cell_type": "code",
   "execution_count": 324,
   "id": "a51120a9",
   "metadata": {},
   "outputs": [
    {
     "name": "stdout",
     "output_type": "stream",
     "text": [
      "cuda:0\n"
     ]
    }
   ],
   "source": [
    "device = torch.device(\"cuda:0\" if torch.cuda.is_available() else \"cpu\")\n",
    "print(device)\n"
   ]
  },
  {
   "cell_type": "code",
   "execution_count": 325,
   "id": "c35ba0e7",
   "metadata": {},
   "outputs": [
    {
     "name": "stdout",
     "output_type": "stream",
     "text": [
      "MulticlassClassification(\n",
      "  (layer_1): Linear(in_features=16, out_features=512, bias=True)\n",
      "  (layer_2): Linear(in_features=512, out_features=128, bias=True)\n",
      "  (layer_3): Linear(in_features=128, out_features=64, bias=True)\n",
      "  (layer_out): Linear(in_features=64, out_features=5, bias=True)\n",
      "  (relu): ReLU()\n",
      "  (dropout): Dropout(p=0.2, inplace=False)\n",
      "  (batchnorm1): BatchNorm1d(512, eps=1e-05, momentum=0.1, affine=True, track_running_stats=True)\n",
      "  (batchnorm2): BatchNorm1d(128, eps=1e-05, momentum=0.1, affine=True, track_running_stats=True)\n",
      "  (batchnorm3): BatchNorm1d(64, eps=1e-05, momentum=0.1, affine=True, track_running_stats=True)\n",
      ")\n"
     ]
    }
   ],
   "source": [
    "model = MulticlassClassification(num_feature = NUM_FEATURES, num_class=NUM_CLASSES)\n",
    "model.to(device)\n",
    "\n",
    "criterion = nn.CrossEntropyLoss(weight=class_weights.to(device))\n",
    "optimizer = optim.Adam(model.parameters(), lr=LEARNING_RATE)\n",
    "print(model)"
   ]
  },
  {
   "cell_type": "code",
   "execution_count": 326,
   "id": "b1d6aea7",
   "metadata": {},
   "outputs": [],
   "source": [
    "def multi_acc(y_pred, y_test):\n",
    "    y_pred_softmax = torch.log_softmax(y_pred, dim = 1)\n",
    "    _, y_pred_tags = torch.max(y_pred_softmax, dim = 1)    \n",
    "    \n",
    "    correct_pred = (y_pred_tags == y_test).float()\n",
    "    acc = correct_pred.sum() / len(correct_pred)\n",
    "    \n",
    "    acc = torch.round(acc * 100)\n",
    "    \n",
    "    return acc"
   ]
  },
  {
   "cell_type": "code",
   "execution_count": 327,
   "id": "20685a67",
   "metadata": {},
   "outputs": [],
   "source": [
    "accuracy_stats = {\n",
    "    'train': [],\n",
    "    \"val\": []\n",
    "}\n",
    "loss_stats = {\n",
    "    'train': [],\n",
    "    \"val\": []\n",
    "}"
   ]
  },
  {
   "cell_type": "code",
   "execution_count": 328,
   "id": "2eab0601",
   "metadata": {},
   "outputs": [
    {
     "name": "stdout",
     "output_type": "stream",
     "text": [
      "Begin training.\n",
      "Epoch 001: | Train Loss: 0.46187 | Val Loss: 0.09777 | Train Acc: 91.970| Val Acc: 100.000\n",
      "Epoch 002: | Train Loss: 0.19447 | Val Loss: 0.05735 | Train Acc: 96.233| Val Acc: 99.153\n",
      "Epoch 003: | Train Loss: 0.11117 | Val Loss: 0.02560 | Train Acc: 97.624| Val Acc: 99.576\n",
      "Epoch 004: | Train Loss: 0.08827 | Val Loss: 0.01441 | Train Acc: 97.759| Val Acc: 100.000\n",
      "Epoch 005: | Train Loss: 0.08140 | Val Loss: 0.01118 | Train Acc: 98.030| Val Acc: 100.000\n",
      "Epoch 006: | Train Loss: 0.06847 | Val Loss: 0.01111 | Train Acc: 98.504| Val Acc: 100.000\n",
      "Epoch 007: | Train Loss: 0.05238 | Val Loss: 0.01527 | Train Acc: 98.594| Val Acc: 99.576\n",
      "Epoch 008: | Train Loss: 0.05476 | Val Loss: 0.01107 | Train Acc: 98.308| Val Acc: 100.000\n",
      "Epoch 009: | Train Loss: 0.04803 | Val Loss: 0.00661 | Train Acc: 98.549| Val Acc: 100.000\n",
      "Epoch 010: | Train Loss: 0.03288 | Val Loss: 0.01111 | Train Acc: 99.271| Val Acc: 99.576\n",
      "Epoch 011: | Train Loss: 0.07015 | Val Loss: 0.00495 | Train Acc: 98.714| Val Acc: 100.000\n",
      "Epoch 012: | Train Loss: 0.04715 | Val Loss: 0.00750 | Train Acc: 98.594| Val Acc: 100.000\n",
      "Epoch 013: | Train Loss: 0.03248 | Val Loss: 0.00483 | Train Acc: 99.271| Val Acc: 100.000\n",
      "Epoch 014: | Train Loss: 0.04690 | Val Loss: 0.00434 | Train Acc: 98.579| Val Acc: 100.000\n",
      "Epoch 015: | Train Loss: 0.04204 | Val Loss: 0.01535 | Train Acc: 98.774| Val Acc: 99.576\n",
      "Epoch 016: | Train Loss: 0.03980 | Val Loss: 0.00352 | Train Acc: 98.865| Val Acc: 100.000\n",
      "Epoch 017: | Train Loss: 0.02873 | Val Loss: 0.00388 | Train Acc: 99.143| Val Acc: 100.000\n",
      "Epoch 018: | Train Loss: 0.02724 | Val Loss: 0.00301 | Train Acc: 99.135| Val Acc: 100.000\n",
      "Epoch 019: | Train Loss: 0.03132 | Val Loss: 0.00351 | Train Acc: 99.226| Val Acc: 100.000\n",
      "Epoch 020: | Train Loss: 0.04647 | Val Loss: 0.00730 | Train Acc: 98.714| Val Acc: 100.000\n",
      "Epoch 021: | Train Loss: 0.02425 | Val Loss: 0.00350 | Train Acc: 99.459| Val Acc: 100.000\n",
      "Epoch 022: | Train Loss: 0.02019 | Val Loss: 0.00332 | Train Acc: 99.414| Val Acc: 100.000\n",
      "Epoch 023: | Train Loss: 0.03584 | Val Loss: 0.00739 | Train Acc: 99.090| Val Acc: 99.576\n",
      "Epoch 024: | Train Loss: 0.06121 | Val Loss: 0.01153 | Train Acc: 98.391| Val Acc: 99.153\n",
      "Epoch 025: | Train Loss: 0.03879 | Val Loss: 0.00253 | Train Acc: 99.045| Val Acc: 100.000\n",
      "Epoch 026: | Train Loss: 0.03796 | Val Loss: 0.00165 | Train Acc: 98.902| Val Acc: 100.000\n",
      "Epoch 027: | Train Loss: 0.03758 | Val Loss: 0.00127 | Train Acc: 98.504| Val Acc: 100.000\n",
      "Epoch 028: | Train Loss: 0.02055 | Val Loss: 0.00194 | Train Acc: 99.549| Val Acc: 100.000\n",
      "Epoch 029: | Train Loss: 0.03799 | Val Loss: 0.00119 | Train Acc: 99.308| Val Acc: 100.000\n",
      "Epoch 030: | Train Loss: 0.04783 | Val Loss: 0.00123 | Train Acc: 98.722| Val Acc: 100.000\n",
      "Epoch 031: | Train Loss: 0.02850 | Val Loss: 0.00249 | Train Acc: 99.143| Val Acc: 100.000\n",
      "Epoch 032: | Train Loss: 0.01809 | Val Loss: 0.00526 | Train Acc: 99.549| Val Acc: 100.000\n",
      "Epoch 033: | Train Loss: 0.01970 | Val Loss: 0.00251 | Train Acc: 99.308| Val Acc: 100.000\n",
      "Epoch 034: | Train Loss: 0.02587 | Val Loss: 0.00421 | Train Acc: 99.135| Val Acc: 100.000\n",
      "Epoch 035: | Train Loss: 0.01288 | Val Loss: 0.00120 | Train Acc: 99.729| Val Acc: 100.000\n",
      "Epoch 036: | Train Loss: 0.02365 | Val Loss: 0.00161 | Train Acc: 99.180| Val Acc: 100.000\n",
      "Epoch 037: | Train Loss: 0.02038 | Val Loss: 0.00135 | Train Acc: 99.414| Val Acc: 100.000\n",
      "Epoch 038: | Train Loss: 0.01305 | Val Loss: 0.00163 | Train Acc: 99.774| Val Acc: 100.000\n",
      "Epoch 039: | Train Loss: 0.02615 | Val Loss: 0.00153 | Train Acc: 99.233| Val Acc: 100.000\n",
      "Epoch 040: | Train Loss: 0.01915 | Val Loss: 0.00128 | Train Acc: 99.323| Val Acc: 100.000\n",
      "Epoch 041: | Train Loss: 0.02701 | Val Loss: 0.00157 | Train Acc: 99.233| Val Acc: 100.000\n",
      "Epoch 042: | Train Loss: 0.02279 | Val Loss: 0.00269 | Train Acc: 99.233| Val Acc: 100.000\n",
      "Epoch 043: | Train Loss: 0.01466 | Val Loss: 0.00106 | Train Acc: 99.684| Val Acc: 100.000\n",
      "Epoch 044: | Train Loss: 0.02921 | Val Loss: 0.01374 | Train Acc: 99.406| Val Acc: 99.576\n",
      "Epoch 045: | Train Loss: 0.01825 | Val Loss: 0.00173 | Train Acc: 99.459| Val Acc: 100.000\n",
      "Epoch 046: | Train Loss: 0.02001 | Val Loss: 0.00277 | Train Acc: 99.459| Val Acc: 100.000\n",
      "Epoch 047: | Train Loss: 0.02562 | Val Loss: 0.01144 | Train Acc: 98.902| Val Acc: 99.153\n",
      "Epoch 048: | Train Loss: 0.02143 | Val Loss: 0.00188 | Train Acc: 99.406| Val Acc: 100.000\n",
      "Epoch 049: | Train Loss: 0.03921 | Val Loss: 0.00274 | Train Acc: 99.451| Val Acc: 100.000\n",
      "Epoch 050: | Train Loss: 0.01639 | Val Loss: 0.00107 | Train Acc: 99.541| Val Acc: 100.000\n",
      "Epoch 051: | Train Loss: 0.02227 | Val Loss: 0.00291 | Train Acc: 99.218| Val Acc: 100.000\n",
      "Epoch 052: | Train Loss: 0.01231 | Val Loss: 0.00275 | Train Acc: 99.489| Val Acc: 100.000\n",
      "Epoch 053: | Train Loss: 0.00929 | Val Loss: 0.00082 | Train Acc: 99.774| Val Acc: 100.000\n",
      "Epoch 054: | Train Loss: 0.01511 | Val Loss: 0.00126 | Train Acc: 99.639| Val Acc: 100.000\n",
      "Epoch 055: | Train Loss: 0.01325 | Val Loss: 0.00671 | Train Acc: 99.496| Val Acc: 99.576\n",
      "Epoch 056: | Train Loss: 0.01122 | Val Loss: 0.00088 | Train Acc: 99.684| Val Acc: 100.000\n",
      "Epoch 057: | Train Loss: 0.03572 | Val Loss: 0.00249 | Train Acc: 99.030| Val Acc: 100.000\n",
      "Epoch 058: | Train Loss: 0.01822 | Val Loss: 0.00176 | Train Acc: 99.316| Val Acc: 100.000\n",
      "Epoch 059: | Train Loss: 0.02476 | Val Loss: 0.00179 | Train Acc: 99.323| Val Acc: 100.000\n",
      "Epoch 060: | Train Loss: 0.02211 | Val Loss: 0.00881 | Train Acc: 99.308| Val Acc: 99.576\n",
      "Epoch 061: | Train Loss: 0.02671 | Val Loss: 0.00190 | Train Acc: 99.263| Val Acc: 100.000\n",
      "Epoch 062: | Train Loss: 0.01793 | Val Loss: 0.00161 | Train Acc: 99.406| Val Acc: 100.000\n",
      "Epoch 063: | Train Loss: 0.04160 | Val Loss: 0.00078 | Train Acc: 99.263| Val Acc: 100.000\n",
      "Epoch 064: | Train Loss: 0.02628 | Val Loss: 0.00084 | Train Acc: 99.135| Val Acc: 100.000\n",
      "Epoch 065: | Train Loss: 0.03236 | Val Loss: 0.01118 | Train Acc: 99.090| Val Acc: 99.576\n",
      "Epoch 066: | Train Loss: 0.03047 | Val Loss: 0.00464 | Train Acc: 99.406| Val Acc: 100.000\n",
      "Epoch 067: | Train Loss: 0.02009 | Val Loss: 0.00145 | Train Acc: 99.406| Val Acc: 100.000\n",
      "Epoch 068: | Train Loss: 0.01902 | Val Loss: 0.00405 | Train Acc: 99.504| Val Acc: 99.576\n",
      "Epoch 069: | Train Loss: 0.05111 | Val Loss: 0.00111 | Train Acc: 99.263| Val Acc: 100.000\n",
      "Epoch 070: | Train Loss: 0.00984 | Val Loss: 0.00166 | Train Acc: 99.549| Val Acc: 100.000\n",
      "Epoch 071: | Train Loss: 0.02227 | Val Loss: 0.00166 | Train Acc: 99.308| Val Acc: 100.000\n",
      "Epoch 072: | Train Loss: 0.03807 | Val Loss: 0.00037 | Train Acc: 99.211| Val Acc: 100.000\n",
      "Epoch 073: | Train Loss: 0.03393 | Val Loss: 0.00121 | Train Acc: 98.857| Val Acc: 100.000\n",
      "Epoch 074: | Train Loss: 0.01348 | Val Loss: 0.00066 | Train Acc: 99.496| Val Acc: 100.000\n",
      "Epoch 075: | Train Loss: 0.00750 | Val Loss: 0.00167 | Train Acc: 99.729| Val Acc: 100.000\n",
      "Epoch 076: | Train Loss: 0.02865 | Val Loss: 0.00060 | Train Acc: 99.632| Val Acc: 100.000\n",
      "Epoch 077: | Train Loss: 0.01272 | Val Loss: 0.00069 | Train Acc: 99.722| Val Acc: 100.000\n",
      "Epoch 078: | Train Loss: 0.01572 | Val Loss: 0.00109 | Train Acc: 99.639| Val Acc: 100.000\n",
      "Epoch 079: | Train Loss: 0.01159 | Val Loss: 0.00137 | Train Acc: 99.729| Val Acc: 100.000\n",
      "Epoch 080: | Train Loss: 0.03219 | Val Loss: 0.00028 | Train Acc: 99.263| Val Acc: 100.000\n",
      "Epoch 081: | Train Loss: 0.01758 | Val Loss: 0.00107 | Train Acc: 99.586| Val Acc: 100.000\n",
      "Epoch 082: | Train Loss: 0.03028 | Val Loss: 0.00072 | Train Acc: 99.278| Val Acc: 100.000\n",
      "Epoch 083: | Train Loss: 0.01618 | Val Loss: 0.00051 | Train Acc: 99.496| Val Acc: 100.000\n",
      "Epoch 084: | Train Loss: 0.02385 | Val Loss: 0.00088 | Train Acc: 99.451| Val Acc: 100.000\n",
      "Epoch 085: | Train Loss: 0.02085 | Val Loss: 0.00274 | Train Acc: 99.233| Val Acc: 100.000\n",
      "Epoch 086: | Train Loss: 0.06095 | Val Loss: 0.00199 | Train Acc: 99.256| Val Acc: 100.000\n",
      "Epoch 087: | Train Loss: 0.00968 | Val Loss: 0.00178 | Train Acc: 99.820| Val Acc: 100.000\n",
      "Epoch 088: | Train Loss: 0.01663 | Val Loss: 0.00201 | Train Acc: 99.594| Val Acc: 100.000\n",
      "Epoch 089: | Train Loss: 0.01251 | Val Loss: 0.00364 | Train Acc: 99.684| Val Acc: 100.000\n",
      "Epoch 090: | Train Loss: 0.03490 | Val Loss: 0.00107 | Train Acc: 99.353| Val Acc: 100.000\n"
     ]
    },
    {
     "name": "stdout",
     "output_type": "stream",
     "text": [
      "Epoch 091: | Train Loss: 0.01731 | Val Loss: 0.00127 | Train Acc: 99.451| Val Acc: 100.000\n",
      "Epoch 092: | Train Loss: 0.01365 | Val Loss: 0.01092 | Train Acc: 99.594| Val Acc: 99.576\n",
      "Epoch 093: | Train Loss: 0.01193 | Val Loss: 0.00066 | Train Acc: 99.639| Val Acc: 100.000\n",
      "Epoch 094: | Train Loss: 0.00396 | Val Loss: 0.00051 | Train Acc: 99.865| Val Acc: 100.000\n",
      "Epoch 095: | Train Loss: 0.01312 | Val Loss: 0.00057 | Train Acc: 99.594| Val Acc: 100.000\n",
      "Epoch 096: | Train Loss: 0.00853 | Val Loss: 0.00123 | Train Acc: 99.729| Val Acc: 100.000\n",
      "Epoch 097: | Train Loss: 0.01980 | Val Loss: 0.00113 | Train Acc: 99.594| Val Acc: 100.000\n",
      "Epoch 098: | Train Loss: 0.01133 | Val Loss: 0.00128 | Train Acc: 99.639| Val Acc: 100.000\n",
      "Epoch 099: | Train Loss: 0.01487 | Val Loss: 0.00128 | Train Acc: 99.594| Val Acc: 100.000\n",
      "Epoch 100: | Train Loss: 0.00287 | Val Loss: 0.00074 | Train Acc: 100.000| Val Acc: 100.000\n",
      "Epoch 101: | Train Loss: 0.01435 | Val Loss: 0.00082 | Train Acc: 99.406| Val Acc: 100.000\n",
      "Epoch 102: | Train Loss: 0.01755 | Val Loss: 0.00089 | Train Acc: 99.361| Val Acc: 100.000\n",
      "Epoch 103: | Train Loss: 0.02825 | Val Loss: 0.01250 | Train Acc: 99.263| Val Acc: 99.576\n",
      "Epoch 104: | Train Loss: 0.01144 | Val Loss: 0.00405 | Train Acc: 99.639| Val Acc: 100.000\n",
      "Epoch 105: | Train Loss: 0.01324 | Val Loss: 0.00256 | Train Acc: 99.684| Val Acc: 100.000\n",
      "Epoch 106: | Train Loss: 0.00663 | Val Loss: 0.00105 | Train Acc: 99.820| Val Acc: 100.000\n",
      "Epoch 107: | Train Loss: 0.00951 | Val Loss: 0.00092 | Train Acc: 99.684| Val Acc: 100.000\n",
      "Epoch 108: | Train Loss: 0.01616 | Val Loss: 0.00554 | Train Acc: 99.263| Val Acc: 100.000\n",
      "Epoch 109: | Train Loss: 0.01663 | Val Loss: 0.00047 | Train Acc: 99.632| Val Acc: 100.000\n",
      "Epoch 110: | Train Loss: 0.02313 | Val Loss: 0.00099 | Train Acc: 99.677| Val Acc: 100.000\n",
      "Epoch 111: | Train Loss: 0.03912 | Val Loss: 0.00108 | Train Acc: 99.120| Val Acc: 100.000\n",
      "Epoch 112: | Train Loss: 0.01273 | Val Loss: 0.00049 | Train Acc: 99.586| Val Acc: 100.000\n",
      "Epoch 113: | Train Loss: 0.01007 | Val Loss: 0.00099 | Train Acc: 99.820| Val Acc: 100.000\n",
      "Epoch 114: | Train Loss: 0.00820 | Val Loss: 0.00119 | Train Acc: 99.677| Val Acc: 100.000\n",
      "Epoch 115: | Train Loss: 0.01401 | Val Loss: 0.00232 | Train Acc: 99.549| Val Acc: 100.000\n",
      "Epoch 116: | Train Loss: 0.00813 | Val Loss: 0.00261 | Train Acc: 99.774| Val Acc: 100.000\n",
      "Epoch 117: | Train Loss: 0.06768 | Val Loss: 0.00068 | Train Acc: 99.353| Val Acc: 100.000\n",
      "Epoch 118: | Train Loss: 0.00697 | Val Loss: 0.00141 | Train Acc: 99.865| Val Acc: 100.000\n",
      "Epoch 119: | Train Loss: 0.01677 | Val Loss: 0.00126 | Train Acc: 99.541| Val Acc: 100.000\n",
      "Epoch 120: | Train Loss: 0.04058 | Val Loss: 0.00074 | Train Acc: 99.203| Val Acc: 100.000\n",
      "Epoch 121: | Train Loss: 0.01189 | Val Loss: 0.00594 | Train Acc: 99.594| Val Acc: 99.576\n",
      "Epoch 122: | Train Loss: 0.00625 | Val Loss: 0.00242 | Train Acc: 99.774| Val Acc: 100.000\n",
      "Epoch 123: | Train Loss: 0.01690 | Val Loss: 0.00073 | Train Acc: 99.541| Val Acc: 100.000\n",
      "Epoch 124: | Train Loss: 0.01673 | Val Loss: 0.00064 | Train Acc: 99.406| Val Acc: 100.000\n",
      "Epoch 125: | Train Loss: 0.02598 | Val Loss: 0.00422 | Train Acc: 99.406| Val Acc: 99.576\n",
      "Epoch 126: | Train Loss: 0.00580 | Val Loss: 0.00163 | Train Acc: 99.910| Val Acc: 100.000\n",
      "Epoch 127: | Train Loss: 0.01899 | Val Loss: 0.00220 | Train Acc: 99.632| Val Acc: 100.000\n",
      "Epoch 128: | Train Loss: 0.03437 | Val Loss: 0.00287 | Train Acc: 99.211| Val Acc: 100.000\n",
      "Epoch 129: | Train Loss: 0.01871 | Val Loss: 0.00261 | Train Acc: 99.489| Val Acc: 100.000\n",
      "Epoch 130: | Train Loss: 0.03524 | Val Loss: 0.00117 | Train Acc: 99.489| Val Acc: 100.000\n",
      "Epoch 131: | Train Loss: 0.00755 | Val Loss: 0.00159 | Train Acc: 99.820| Val Acc: 100.000\n",
      "Epoch 132: | Train Loss: 0.00888 | Val Loss: 0.00340 | Train Acc: 99.820| Val Acc: 100.000\n",
      "Epoch 133: | Train Loss: 0.01471 | Val Loss: 0.00036 | Train Acc: 99.398| Val Acc: 100.000\n",
      "Epoch 134: | Train Loss: 0.00930 | Val Loss: 0.00087 | Train Acc: 99.729| Val Acc: 100.000\n",
      "Epoch 135: | Train Loss: 0.00866 | Val Loss: 0.00253 | Train Acc: 99.910| Val Acc: 100.000\n",
      "Epoch 136: | Train Loss: 0.00963 | Val Loss: 0.00066 | Train Acc: 99.774| Val Acc: 100.000\n",
      "Epoch 137: | Train Loss: 0.00562 | Val Loss: 0.00148 | Train Acc: 99.729| Val Acc: 100.000\n",
      "Epoch 138: | Train Loss: 0.02241 | Val Loss: 0.00193 | Train Acc: 99.722| Val Acc: 100.000\n",
      "Epoch 139: | Train Loss: 0.01257 | Val Loss: 0.00122 | Train Acc: 99.639| Val Acc: 100.000\n",
      "Epoch 140: | Train Loss: 0.00307 | Val Loss: 0.00070 | Train Acc: 99.955| Val Acc: 100.000\n",
      "Epoch 141: | Train Loss: 0.01127 | Val Loss: 0.00217 | Train Acc: 99.632| Val Acc: 100.000\n",
      "Epoch 142: | Train Loss: 0.01579 | Val Loss: 0.00128 | Train Acc: 99.632| Val Acc: 100.000\n",
      "Epoch 143: | Train Loss: 0.03680 | Val Loss: 0.00281 | Train Acc: 99.489| Val Acc: 100.000\n",
      "Epoch 144: | Train Loss: 0.01352 | Val Loss: 0.00065 | Train Acc: 99.414| Val Acc: 100.000\n",
      "Epoch 145: | Train Loss: 0.02252 | Val Loss: 0.00229 | Train Acc: 99.541| Val Acc: 100.000\n",
      "Epoch 146: | Train Loss: 0.00596 | Val Loss: 0.00242 | Train Acc: 99.865| Val Acc: 100.000\n",
      "Epoch 147: | Train Loss: 0.00708 | Val Loss: 0.00081 | Train Acc: 99.820| Val Acc: 100.000\n",
      "Epoch 148: | Train Loss: 0.00972 | Val Loss: 0.00154 | Train Acc: 99.729| Val Acc: 100.000\n",
      "Epoch 149: | Train Loss: 0.00904 | Val Loss: 0.00056 | Train Acc: 99.910| Val Acc: 100.000\n",
      "Epoch 150: | Train Loss: 0.01370 | Val Loss: 0.00086 | Train Acc: 99.459| Val Acc: 100.000\n",
      "Epoch 151: | Train Loss: 0.00753 | Val Loss: 0.00095 | Train Acc: 99.820| Val Acc: 100.000\n",
      "Epoch 152: | Train Loss: 0.00785 | Val Loss: 0.00124 | Train Acc: 99.865| Val Acc: 100.000\n",
      "Epoch 153: | Train Loss: 0.01438 | Val Loss: 0.00234 | Train Acc: 99.444| Val Acc: 100.000\n",
      "Epoch 154: | Train Loss: 0.01426 | Val Loss: 0.00068 | Train Acc: 99.496| Val Acc: 100.000\n",
      "Epoch 155: | Train Loss: 0.01185 | Val Loss: 0.00177 | Train Acc: 99.729| Val Acc: 100.000\n",
      "Epoch 156: | Train Loss: 0.08950 | Val Loss: 0.00097 | Train Acc: 99.534| Val Acc: 100.000\n",
      "Epoch 157: | Train Loss: 0.01949 | Val Loss: 0.00107 | Train Acc: 99.496| Val Acc: 100.000\n",
      "Epoch 158: | Train Loss: 0.02616 | Val Loss: 0.00089 | Train Acc: 99.406| Val Acc: 100.000\n",
      "Epoch 159: | Train Loss: 0.02308 | Val Loss: 0.00091 | Train Acc: 99.316| Val Acc: 100.000\n",
      "Epoch 160: | Train Loss: 0.01099 | Val Loss: 0.00045 | Train Acc: 99.729| Val Acc: 100.000\n",
      "Epoch 161: | Train Loss: 0.00975 | Val Loss: 0.00235 | Train Acc: 99.729| Val Acc: 100.000\n",
      "Epoch 162: | Train Loss: 0.00331 | Val Loss: 0.00140 | Train Acc: 99.955| Val Acc: 100.000\n",
      "Epoch 163: | Train Loss: 0.00501 | Val Loss: 0.00160 | Train Acc: 99.865| Val Acc: 100.000\n",
      "Epoch 164: | Train Loss: 0.00748 | Val Loss: 0.00298 | Train Acc: 99.729| Val Acc: 100.000\n",
      "Epoch 165: | Train Loss: 0.00364 | Val Loss: 0.00084 | Train Acc: 100.000| Val Acc: 100.000\n",
      "Epoch 166: | Train Loss: 0.00495 | Val Loss: 0.00049 | Train Acc: 99.865| Val Acc: 100.000\n",
      "Epoch 167: | Train Loss: 0.00519 | Val Loss: 0.00136 | Train Acc: 99.910| Val Acc: 100.000\n",
      "Epoch 168: | Train Loss: 0.00437 | Val Loss: 0.00030 | Train Acc: 99.820| Val Acc: 100.000\n",
      "Epoch 169: | Train Loss: 0.01053 | Val Loss: 0.00064 | Train Acc: 99.586| Val Acc: 100.000\n",
      "Epoch 170: | Train Loss: 0.01476 | Val Loss: 0.00064 | Train Acc: 99.496| Val Acc: 100.000\n",
      "Epoch 171: | Train Loss: 0.00970 | Val Loss: 0.00034 | Train Acc: 99.820| Val Acc: 100.000\n",
      "Epoch 172: | Train Loss: 0.00655 | Val Loss: 0.00353 | Train Acc: 99.820| Val Acc: 99.576\n",
      "Epoch 173: | Train Loss: 0.00776 | Val Loss: 0.00029 | Train Acc: 99.729| Val Acc: 100.000\n",
      "Epoch 174: | Train Loss: 0.00538 | Val Loss: 0.00101 | Train Acc: 99.865| Val Acc: 100.000\n",
      "Epoch 175: | Train Loss: 0.00534 | Val Loss: 0.00024 | Train Acc: 99.820| Val Acc: 100.000\n",
      "Epoch 176: | Train Loss: 0.00863 | Val Loss: 0.00025 | Train Acc: 99.820| Val Acc: 100.000\n",
      "Epoch 177: | Train Loss: 0.00693 | Val Loss: 0.00023 | Train Acc: 99.865| Val Acc: 100.000\n",
      "Epoch 178: | Train Loss: 0.02664 | Val Loss: 0.00019 | Train Acc: 99.444| Val Acc: 100.000\n",
      "Epoch 179: | Train Loss: 0.01159 | Val Loss: 0.00108 | Train Acc: 99.504| Val Acc: 100.000\n",
      "Epoch 180: | Train Loss: 0.01808 | Val Loss: 0.01640 | Train Acc: 99.496| Val Acc: 99.576\n",
      "Epoch 181: | Train Loss: 0.10601 | Val Loss: 0.00095 | Train Acc: 99.263| Val Acc: 100.000\n"
     ]
    },
    {
     "name": "stdout",
     "output_type": "stream",
     "text": [
      "Epoch 182: | Train Loss: 0.00903 | Val Loss: 0.00686 | Train Acc: 99.774| Val Acc: 99.576\n",
      "Epoch 183: | Train Loss: 0.00602 | Val Loss: 0.00356 | Train Acc: 99.820| Val Acc: 99.576\n",
      "Epoch 184: | Train Loss: 0.01867 | Val Loss: 0.00163 | Train Acc: 99.579| Val Acc: 100.000\n",
      "Epoch 185: | Train Loss: 0.00975 | Val Loss: 0.00266 | Train Acc: 99.684| Val Acc: 100.000\n",
      "Epoch 186: | Train Loss: 0.00598 | Val Loss: 0.00320 | Train Acc: 99.865| Val Acc: 99.576\n",
      "Epoch 187: | Train Loss: 0.00375 | Val Loss: 0.00092 | Train Acc: 99.955| Val Acc: 100.000\n",
      "Epoch 188: | Train Loss: 0.00738 | Val Loss: 0.01728 | Train Acc: 99.774| Val Acc: 99.576\n",
      "Epoch 189: | Train Loss: 0.02338 | Val Loss: 0.00051 | Train Acc: 99.677| Val Acc: 100.000\n",
      "Epoch 190: | Train Loss: 0.00627 | Val Loss: 0.00084 | Train Acc: 99.722| Val Acc: 100.000\n",
      "Epoch 191: | Train Loss: 0.00697 | Val Loss: 0.00029 | Train Acc: 99.865| Val Acc: 100.000\n",
      "Epoch 192: | Train Loss: 0.02185 | Val Loss: 0.00111 | Train Acc: 99.489| Val Acc: 100.000\n",
      "Epoch 193: | Train Loss: 0.01738 | Val Loss: 0.00083 | Train Acc: 99.459| Val Acc: 100.000\n",
      "Epoch 194: | Train Loss: 0.00567 | Val Loss: 0.00058 | Train Acc: 99.820| Val Acc: 100.000\n",
      "Epoch 195: | Train Loss: 0.00752 | Val Loss: 0.00046 | Train Acc: 99.774| Val Acc: 100.000\n",
      "Epoch 196: | Train Loss: 0.00600 | Val Loss: 0.00117 | Train Acc: 99.865| Val Acc: 100.000\n",
      "Epoch 197: | Train Loss: 0.02456 | Val Loss: 0.00102 | Train Acc: 99.541| Val Acc: 100.000\n",
      "Epoch 198: | Train Loss: 0.00411 | Val Loss: 0.00056 | Train Acc: 99.865| Val Acc: 100.000\n",
      "Epoch 199: | Train Loss: 0.00969 | Val Loss: 0.00118 | Train Acc: 99.774| Val Acc: 100.000\n",
      "Epoch 200: | Train Loss: 0.00785 | Val Loss: 0.00111 | Train Acc: 99.729| Val Acc: 100.000\n",
      "Epoch 201: | Train Loss: 0.01322 | Val Loss: 0.00041 | Train Acc: 99.684| Val Acc: 100.000\n",
      "Epoch 202: | Train Loss: 0.00595 | Val Loss: 0.00060 | Train Acc: 99.774| Val Acc: 100.000\n",
      "Epoch 203: | Train Loss: 0.00947 | Val Loss: 0.00152 | Train Acc: 99.586| Val Acc: 100.000\n",
      "Epoch 204: | Train Loss: 0.00716 | Val Loss: 0.00066 | Train Acc: 99.774| Val Acc: 100.000\n",
      "Epoch 205: | Train Loss: 0.00727 | Val Loss: 0.00044 | Train Acc: 99.910| Val Acc: 100.000\n",
      "Epoch 206: | Train Loss: 0.00742 | Val Loss: 0.00017 | Train Acc: 99.774| Val Acc: 100.000\n",
      "Epoch 207: | Train Loss: 0.00289 | Val Loss: 0.00033 | Train Acc: 99.865| Val Acc: 100.000\n",
      "Epoch 208: | Train Loss: 0.00630 | Val Loss: 0.00058 | Train Acc: 99.820| Val Acc: 100.000\n",
      "Epoch 209: | Train Loss: 0.02178 | Val Loss: 0.00006 | Train Acc: 99.541| Val Acc: 100.000\n",
      "Epoch 210: | Train Loss: 0.05378 | Val Loss: 0.00095 | Train Acc: 99.120| Val Acc: 100.000\n",
      "Epoch 211: | Train Loss: 0.01443 | Val Loss: 0.00160 | Train Acc: 99.541| Val Acc: 100.000\n",
      "Epoch 212: | Train Loss: 0.01016 | Val Loss: 0.00084 | Train Acc: 99.632| Val Acc: 100.000\n",
      "Epoch 213: | Train Loss: 0.00784 | Val Loss: 0.00054 | Train Acc: 99.865| Val Acc: 100.000\n",
      "Epoch 214: | Train Loss: 0.00353 | Val Loss: 0.00060 | Train Acc: 99.910| Val Acc: 100.000\n",
      "Epoch 215: | Train Loss: 0.00452 | Val Loss: 0.00037 | Train Acc: 99.767| Val Acc: 100.000\n",
      "Epoch 216: | Train Loss: 0.00471 | Val Loss: 0.00068 | Train Acc: 99.812| Val Acc: 100.000\n",
      "Epoch 217: | Train Loss: 0.02905 | Val Loss: 0.00663 | Train Acc: 99.120| Val Acc: 99.576\n",
      "Epoch 218: | Train Loss: 0.04201 | Val Loss: 0.00135 | Train Acc: 99.316| Val Acc: 100.000\n",
      "Epoch 219: | Train Loss: 0.00908 | Val Loss: 0.00060 | Train Acc: 99.820| Val Acc: 100.000\n",
      "Epoch 220: | Train Loss: 0.01259 | Val Loss: 0.00399 | Train Acc: 99.586| Val Acc: 99.576\n",
      "Epoch 221: | Train Loss: 0.00647 | Val Loss: 0.00034 | Train Acc: 99.820| Val Acc: 100.000\n",
      "Epoch 222: | Train Loss: 0.00545 | Val Loss: 0.00021 | Train Acc: 99.722| Val Acc: 100.000\n",
      "Epoch 223: | Train Loss: 0.00819 | Val Loss: 0.00020 | Train Acc: 99.767| Val Acc: 100.000\n",
      "Epoch 224: | Train Loss: 0.00737 | Val Loss: 0.00074 | Train Acc: 99.865| Val Acc: 100.000\n",
      "Epoch 225: | Train Loss: 0.00361 | Val Loss: 0.00045 | Train Acc: 99.865| Val Acc: 100.000\n",
      "Epoch 226: | Train Loss: 0.00240 | Val Loss: 0.00088 | Train Acc: 99.955| Val Acc: 100.000\n",
      "Epoch 227: | Train Loss: 0.00277 | Val Loss: 0.00028 | Train Acc: 99.955| Val Acc: 100.000\n",
      "Epoch 228: | Train Loss: 0.00361 | Val Loss: 0.00233 | Train Acc: 99.910| Val Acc: 100.000\n",
      "Epoch 229: | Train Loss: 0.00849 | Val Loss: 0.00271 | Train Acc: 99.820| Val Acc: 100.000\n",
      "Epoch 230: | Train Loss: 0.00348 | Val Loss: 0.00108 | Train Acc: 99.910| Val Acc: 100.000\n",
      "Epoch 231: | Train Loss: 0.00515 | Val Loss: 0.00156 | Train Acc: 99.820| Val Acc: 100.000\n",
      "Epoch 232: | Train Loss: 0.00482 | Val Loss: 0.00050 | Train Acc: 99.865| Val Acc: 100.000\n",
      "Epoch 233: | Train Loss: 0.01110 | Val Loss: 0.00086 | Train Acc: 99.684| Val Acc: 100.000\n",
      "Epoch 234: | Train Loss: 0.00496 | Val Loss: 0.00038 | Train Acc: 99.955| Val Acc: 100.000\n",
      "Epoch 235: | Train Loss: 0.01394 | Val Loss: 0.01544 | Train Acc: 99.594| Val Acc: 99.576\n",
      "Epoch 236: | Train Loss: 0.00930 | Val Loss: 0.00897 | Train Acc: 99.496| Val Acc: 99.576\n",
      "Epoch 237: | Train Loss: 0.01221 | Val Loss: 0.04322 | Train Acc: 99.632| Val Acc: 98.305\n",
      "Epoch 238: | Train Loss: 0.00429 | Val Loss: 0.00384 | Train Acc: 99.774| Val Acc: 99.576\n",
      "Epoch 239: | Train Loss: 0.00251 | Val Loss: 0.00095 | Train Acc: 99.910| Val Acc: 100.000\n",
      "Epoch 240: | Train Loss: 0.00779 | Val Loss: 0.00092 | Train Acc: 99.632| Val Acc: 100.000\n",
      "Epoch 241: | Train Loss: 0.01300 | Val Loss: 0.00071 | Train Acc: 99.774| Val Acc: 100.000\n",
      "Epoch 242: | Train Loss: 0.00131 | Val Loss: 0.00078 | Train Acc: 100.000| Val Acc: 100.000\n",
      "Epoch 243: | Train Loss: 0.02159 | Val Loss: 0.00699 | Train Acc: 99.496| Val Acc: 99.576\n",
      "Epoch 244: | Train Loss: 0.00395 | Val Loss: 0.00164 | Train Acc: 99.910| Val Acc: 100.000\n",
      "Epoch 245: | Train Loss: 0.01160 | Val Loss: 0.00057 | Train Acc: 99.639| Val Acc: 100.000\n",
      "Epoch 246: | Train Loss: 0.01138 | Val Loss: 0.00072 | Train Acc: 99.549| Val Acc: 100.000\n",
      "Epoch 247: | Train Loss: 0.00786 | Val Loss: 0.00066 | Train Acc: 99.774| Val Acc: 100.000\n",
      "Epoch 248: | Train Loss: 0.00103 | Val Loss: 0.00039 | Train Acc: 100.000| Val Acc: 100.000\n",
      "Epoch 249: | Train Loss: 0.04593 | Val Loss: 0.00099 | Train Acc: 99.489| Val Acc: 100.000\n",
      "Epoch 250: | Train Loss: 0.01724 | Val Loss: 0.00533 | Train Acc: 99.414| Val Acc: 99.576\n",
      "Epoch 251: | Train Loss: 0.02900 | Val Loss: 0.00138 | Train Acc: 99.541| Val Acc: 100.000\n",
      "Epoch 252: | Train Loss: 0.00961 | Val Loss: 0.00134 | Train Acc: 99.594| Val Acc: 100.000\n",
      "Epoch 253: | Train Loss: 0.00387 | Val Loss: 0.00078 | Train Acc: 99.865| Val Acc: 100.000\n",
      "Epoch 254: | Train Loss: 0.02038 | Val Loss: 0.00072 | Train Acc: 99.361| Val Acc: 100.000\n",
      "Epoch 255: | Train Loss: 0.00347 | Val Loss: 0.00139 | Train Acc: 99.910| Val Acc: 100.000\n",
      "Epoch 256: | Train Loss: 0.01163 | Val Loss: 0.00369 | Train Acc: 99.639| Val Acc: 100.000\n",
      "Epoch 257: | Train Loss: 0.00689 | Val Loss: 0.00213 | Train Acc: 99.820| Val Acc: 100.000\n",
      "Epoch 258: | Train Loss: 0.00437 | Val Loss: 0.00093 | Train Acc: 99.865| Val Acc: 100.000\n",
      "Epoch 259: | Train Loss: 0.00443 | Val Loss: 0.00057 | Train Acc: 99.722| Val Acc: 100.000\n",
      "Epoch 260: | Train Loss: 0.00345 | Val Loss: 0.00032 | Train Acc: 99.820| Val Acc: 100.000\n",
      "Epoch 261: | Train Loss: 0.01775 | Val Loss: 0.00093 | Train Acc: 99.586| Val Acc: 100.000\n",
      "Epoch 262: | Train Loss: 0.00515 | Val Loss: 0.00050 | Train Acc: 99.865| Val Acc: 100.000\n",
      "Epoch 263: | Train Loss: 0.00451 | Val Loss: 0.00030 | Train Acc: 99.955| Val Acc: 100.000\n",
      "Epoch 264: | Train Loss: 0.00229 | Val Loss: 0.00042 | Train Acc: 100.000| Val Acc: 100.000\n",
      "Epoch 265: | Train Loss: 0.00218 | Val Loss: 0.00129 | Train Acc: 99.910| Val Acc: 100.000\n",
      "Epoch 266: | Train Loss: 0.01208 | Val Loss: 0.00061 | Train Acc: 99.767| Val Acc: 100.000\n",
      "Epoch 267: | Train Loss: 0.01019 | Val Loss: 0.00039 | Train Acc: 99.722| Val Acc: 100.000\n",
      "Epoch 268: | Train Loss: 0.00812 | Val Loss: 0.00042 | Train Acc: 99.774| Val Acc: 100.000\n",
      "Epoch 269: | Train Loss: 0.00869 | Val Loss: 0.00245 | Train Acc: 99.820| Val Acc: 100.000\n",
      "Epoch 270: | Train Loss: 0.00506 | Val Loss: 0.00063 | Train Acc: 99.910| Val Acc: 100.000\n",
      "Epoch 271: | Train Loss: 0.00290 | Val Loss: 0.00065 | Train Acc: 99.955| Val Acc: 100.000\n",
      "Epoch 272: | Train Loss: 0.00210 | Val Loss: 0.00021 | Train Acc: 99.955| Val Acc: 100.000\n"
     ]
    },
    {
     "name": "stdout",
     "output_type": "stream",
     "text": [
      "Epoch 273: | Train Loss: 0.00094 | Val Loss: 0.00054 | Train Acc: 100.000| Val Acc: 100.000\n",
      "Epoch 274: | Train Loss: 0.00486 | Val Loss: 0.00017 | Train Acc: 99.774| Val Acc: 100.000\n",
      "Epoch 275: | Train Loss: 0.00422 | Val Loss: 0.00029 | Train Acc: 99.955| Val Acc: 100.000\n",
      "Epoch 276: | Train Loss: 0.00217 | Val Loss: 0.00021 | Train Acc: 100.000| Val Acc: 100.000\n",
      "Epoch 277: | Train Loss: 0.00228 | Val Loss: 0.00051 | Train Acc: 99.955| Val Acc: 100.000\n",
      "Epoch 278: | Train Loss: 0.01991 | Val Loss: 0.00019 | Train Acc: 99.722| Val Acc: 100.000\n",
      "Epoch 279: | Train Loss: 0.00496 | Val Loss: 0.00188 | Train Acc: 99.820| Val Acc: 100.000\n",
      "Epoch 280: | Train Loss: 0.01608 | Val Loss: 0.00174 | Train Acc: 99.579| Val Acc: 100.000\n",
      "Epoch 281: | Train Loss: 0.00775 | Val Loss: 0.00147 | Train Acc: 99.729| Val Acc: 100.000\n",
      "Epoch 282: | Train Loss: 0.01955 | Val Loss: 0.00019 | Train Acc: 99.722| Val Acc: 100.000\n",
      "Epoch 283: | Train Loss: 0.00205 | Val Loss: 0.00031 | Train Acc: 100.000| Val Acc: 100.000\n",
      "Epoch 284: | Train Loss: 0.00388 | Val Loss: 0.00025 | Train Acc: 99.955| Val Acc: 100.000\n",
      "Epoch 285: | Train Loss: 0.00525 | Val Loss: 0.00120 | Train Acc: 99.910| Val Acc: 100.000\n",
      "Epoch 286: | Train Loss: 0.06413 | Val Loss: 0.00533 | Train Acc: 99.624| Val Acc: 99.576\n",
      "Epoch 287: | Train Loss: 0.00673 | Val Loss: 0.00024 | Train Acc: 99.865| Val Acc: 100.000\n",
      "Epoch 288: | Train Loss: 0.00460 | Val Loss: 0.00029 | Train Acc: 99.820| Val Acc: 100.000\n",
      "Epoch 289: | Train Loss: 0.00663 | Val Loss: 0.00615 | Train Acc: 99.820| Val Acc: 99.576\n",
      "Epoch 290: | Train Loss: 0.00615 | Val Loss: 0.01068 | Train Acc: 99.865| Val Acc: 99.576\n",
      "Epoch 291: | Train Loss: 0.00940 | Val Loss: 0.00527 | Train Acc: 99.677| Val Acc: 99.576\n",
      "Epoch 292: | Train Loss: 0.02721 | Val Loss: 0.00289 | Train Acc: 99.496| Val Acc: 100.000\n",
      "Epoch 293: | Train Loss: 0.01956 | Val Loss: 0.00249 | Train Acc: 99.504| Val Acc: 100.000\n",
      "Epoch 294: | Train Loss: 0.01078 | Val Loss: 0.00051 | Train Acc: 99.684| Val Acc: 100.000\n",
      "Epoch 295: | Train Loss: 0.01475 | Val Loss: 0.00173 | Train Acc: 99.722| Val Acc: 100.000\n",
      "Epoch 296: | Train Loss: 0.01470 | Val Loss: 0.00406 | Train Acc: 99.767| Val Acc: 99.576\n",
      "Epoch 297: | Train Loss: 0.03055 | Val Loss: 0.00044 | Train Acc: 99.308| Val Acc: 100.000\n",
      "Epoch 298: | Train Loss: 0.01174 | Val Loss: 0.00092 | Train Acc: 99.774| Val Acc: 100.000\n",
      "Epoch 299: | Train Loss: 0.00357 | Val Loss: 0.00116 | Train Acc: 99.955| Val Acc: 100.000\n",
      "Epoch 300: | Train Loss: 0.02544 | Val Loss: 0.00014 | Train Acc: 99.444| Val Acc: 100.000\n"
     ]
    }
   ],
   "source": [
    "print(\"Begin training.\")\n",
    "\n",
    "for e in range(1, EPOCHS+1):\n",
    "    \n",
    "    # TRAINING\n",
    "    train_epoch_loss = 0\n",
    "    train_epoch_acc = 0\n",
    "\n",
    "    model.train()\n",
    "    for X_train_batch, y_train_batch in train_loader:\n",
    "        X_train_batch, y_train_batch = X_train_batch.to(device), y_train_batch.to(device)\n",
    "        optimizer.zero_grad()\n",
    "        \n",
    "        y_train_pred = model(X_train_batch)\n",
    "        \n",
    "        train_loss = criterion(y_train_pred, y_train_batch)\n",
    "        train_acc = multi_acc(y_train_pred, y_train_batch)\n",
    "        \n",
    "        train_loss.backward()\n",
    "        optimizer.step()\n",
    "        \n",
    "        train_epoch_loss += train_loss.item()\n",
    "        train_epoch_acc += train_acc.item()\n",
    "        \n",
    "        \n",
    "    # VALIDATION    \n",
    "    with torch.no_grad():\n",
    "        \n",
    "        val_epoch_loss = 0\n",
    "        val_epoch_acc = 0\n",
    "        \n",
    "        model.eval()\n",
    "        for X_val_batch, y_val_batch in val_loader:\n",
    "            X_val_batch, y_val_batch = X_val_batch.to(device), y_val_batch.to(device)\n",
    "            \n",
    "            y_val_pred = model(X_val_batch)\n",
    "                        \n",
    "            val_loss = criterion(y_val_pred, y_val_batch)\n",
    "            val_acc = multi_acc(y_val_pred, y_val_batch)\n",
    "            \n",
    "            val_epoch_loss += val_loss.item()\n",
    "            val_epoch_acc += val_acc.item()\n",
    "\n",
    "    \n",
    "        \n",
    "    loss_stats['train'].append(train_epoch_loss/len(train_loader))\n",
    "    loss_stats['val'].append(val_epoch_loss/len(val_loader))\n",
    "    accuracy_stats['train'].append(train_epoch_acc/len(train_loader))\n",
    "    accuracy_stats['val'].append(val_epoch_acc/len(val_loader))\n",
    "                              \n",
    "    \n",
    "    print(f'Epoch {e+0:03}: | Train Loss: {train_epoch_loss/len(train_loader):.5f} | Val Loss: {val_epoch_loss/len(val_loader):.5f} | Train Acc: {train_epoch_acc/len(train_loader):.3f}| Val Acc: {val_epoch_acc/len(val_loader):.3f}')\n",
    "        \n"
   ]
  },
  {
   "cell_type": "code",
   "execution_count": 332,
   "id": "64060208",
   "metadata": {},
   "outputs": [
    {
     "data": {
      "text/plain": [
       "Text(0.5, 1.0, 'Train-Val Loss/Epoch')"
      ]
     },
     "execution_count": 332,
     "metadata": {},
     "output_type": "execute_result"
    },
    {
     "data": {
      "image/png": "[encoded data removed]",
      "text/plain": [
       "<Figure size 2160x720 with 2 Axes>"
      ]
     },
     "metadata": {
      "needs_background": "light"
     },
     "output_type": "display_data"
    }
   ],
   "source": [
    "train_val_acc_df = pd.DataFrame.from_dict(accuracy_stats).reset_index().melt(id_vars=['index']).rename(columns={\"index\":\"epochs\"})\n",
    "train_val_loss_df = pd.DataFrame.from_dict(loss_stats).reset_index().melt(id_vars=['index']).rename(columns={\"index\":\"epochs\"})\n",
    "\n",
    "fig, axes = plt.subplots(nrows=1, ncols=2, figsize=(30,10))\n",
    "sns.lineplot(data=train_val_acc_df, x = \"epochs\", y=\"value\", hue=\"variable\",  ax=axes[0]).set_title('Train-Val Accuracy/Epoch')\n",
    "sns.lineplot(data=train_val_loss_df, x = \"epochs\", y=\"value\", hue=\"variable\", ax=axes[1]).set_title('Train-Val Loss/Epoch')"
   ]
  },
  {
   "cell_type": "code",
   "execution_count": 333,
   "id": "163372fd",
   "metadata": {},
   "outputs": [],
   "source": [
    "y_pred_list = []\n",
    "\n",
    "with torch.no_grad():\n",
    "    model.eval()\n",
    "    for X_batch, _ in test_loader:\n",
    "        X_batch = X_batch.to(device)\n",
    "        y_test_pred = model(X_batch)\n",
    "        y_pred_softmax = torch.log_softmax(y_test_pred, dim = 1)\n",
    "        _, y_pred_tags = torch.max(y_pred_softmax, dim = 1)\n",
    "        y_pred_list.append(y_pred_tags.cpu().numpy())"
   ]
  },
  {
   "cell_type": "code",
   "execution_count": 334,
   "id": "2198ee24",
   "metadata": {},
   "outputs": [],
   "source": [
    "y_pred_list = [a.squeeze().tolist() for a in y_pred_list]"
   ]
  },
  {
   "cell_type": "code",
   "execution_count": 335,
   "id": "bdf110f6",
   "metadata": {},
   "outputs": [
    {
     "data": {
      "text/plain": [
       "Text(0.5, 1.0, 'Confusion Matrix for MAV Features')"
      ]
     },
     "execution_count": 335,
     "metadata": {},
     "output_type": "execute_result"
    },
    {
     "data": {
      "image/png": "[encoded data removed]",
      "text/plain": [
       "<Figure size 432x288 with 2 Axes>"
      ]
     },
     "metadata": {
      "needs_background": "light"
     },
     "output_type": "display_data"
    }
   ],
   "source": [
    "confusion_matrix_df = pd.DataFrame(confusion_matrix(y_test, y_pred_list)).rename(columns=idx2class, index=idx2class)\n",
    "sns.heatmap(confusion_matrix_df, annot=True)\n",
    "plt.title('Confusion Matrix for MAV Features')"
   ]
  },
  {
   "cell_type": "code",
   "execution_count": 336,
   "id": "761e2e41",
   "metadata": {},
   "outputs": [
    {
     "name": "stdout",
     "output_type": "stream",
     "text": [
      "              precision    recall  f1-score   support\n",
      "\n",
      "           0       1.00      1.00      1.00       134\n",
      "           1       1.00      1.00      1.00       107\n",
      "           2       1.00      1.00      1.00       108\n",
      "           3       1.00      1.00      1.00       118\n",
      "           4       1.00      1.00      1.00       121\n",
      "\n",
      "    accuracy                           1.00       588\n",
      "   macro avg       1.00      1.00      1.00       588\n",
      "weighted avg       1.00      1.00      1.00       588\n",
      "\n"
     ]
    }
   ],
   "source": [
    "print(classification_report(y_test, y_pred_list))"
   ]
  },
  {
   "cell_type": "code",
   "execution_count": null,
   "id": "5e289b2d",
   "metadata": {},
   "outputs": [],
   "source": []
  },
  {
   "cell_type": "code",
   "execution_count": null,
   "id": "36e68759",
   "metadata": {},
   "outputs": [],
   "source": []
  }
 ],
 "metadata": {
  "kernelspec": {
   "display_name": "Python 3",
   "language": "python",
   "name": "python3"
  },
  "language_info": {
   "codemirror_mode": {
    "name": "ipython",
    "version": 3
   },
   "file_extension": ".py",
   "mimetype": "text/x-python",
   "name": "python",
   "nbconvert_exporter": "python",
   "pygments_lexer": "ipython3",
   "version": "3.9.2"
  }
 },
 "nbformat": 4,
 "nbformat_minor": 5
}
